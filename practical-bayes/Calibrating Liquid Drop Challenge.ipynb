{
 "cells": [
  {
   "attachments": {},
   "cell_type": "markdown",
   "id": "f89d0ce2",
   "metadata": {},
   "source": [
    "# Calibrating the Liquid Drop Model"
   ]
  },
  {
   "attachments": {},
   "cell_type": "markdown",
   "id": "434fe4d9",
   "metadata": {},
   "source": [
    "The purpose of this challenge is for you to calibrate the Liquid Drop Model https://en.wikipedia.org/wiki/Semi-empirical_mass_formula and compare the results of a \"black box\" calibration vs a principled Bayesian one.\n",
    "\n",
    "Your task is to:\n",
    "\n",
    "- Import the data from the AME 2016 table (included in the github). We are only using nuclei above A=16 to avoid light nuclei where the LDM fails particularly. Perform a curve fit using the built in functions from python (https://docs.scipy.org/doc/scipy/reference/generated/scipy.optimize.curve_fit.html) and take note of the reported uncertainties in the parameters. \n",
    "- Make a plot of the residuals and estimate the model error on its best fit. \n",
    "- Make a model calibration using the Bayesian formalism we defined and a Metropolis sampler. For the error, use your estimation from the previous point (the model error in this case is much smaller than the actual experimental uncertainties). \n",
    "- Plot the corner plot posterior as well as the model values on the Binding Energy per nucleon for the Calcium chain up to 60Ca including the available experimental data.\n",
    "- What would be the results if you have used in the calibration the Binding Energy per nucleon instead of the total Binding Energy?\n",
    "- Bonus: Find the experimental error in the masses and repeat the calibration using only experimental errors. This should give a good demonstration on the dangers of not taking into account model errors. \n"
   ]
  },
  {
   "cell_type": "code",
   "execution_count": 70,
   "id": "c47eeeff",
   "metadata": {},
   "outputs": [
    {
     "ename": "TypeError",
     "evalue": "'list' object is not callable",
     "output_type": "error",
     "traceback": [
      "\u001b[0;31m---------------------------------------------------------------------------\u001b[0m",
      "\u001b[0;31mTypeError\u001b[0m                                 Traceback (most recent call last)",
      "Cell \u001b[0;32mIn[70], line 3\u001b[0m\n\u001b[1;32m      1\u001b[0m \u001b[39mimport\u001b[39;00m \u001b[39mnumpy\u001b[39;00m \u001b[39mas\u001b[39;00m \u001b[39mnp\u001b[39;00m\n\u001b[1;32m      2\u001b[0m \u001b[39mimport\u001b[39;00m \u001b[39mscipy\u001b[39;00m\n\u001b[0;32m----> 3\u001b[0m \u001b[39mimport\u001b[39;00m \u001b[39mmatplotlib\u001b[39;00m\u001b[39m.\u001b[39;00m\u001b[39mpyplot\u001b[39;00m \u001b[39mas\u001b[39;00m \u001b[39mplt\u001b[39;00m\n",
      "File \u001b[0;32m~/.local/lib/python3.10/site-packages/matplotlib/pyplot.py:52\u001b[0m\n\u001b[1;32m     50\u001b[0m \u001b[39mfrom\u001b[39;00m \u001b[39mcycler\u001b[39;00m \u001b[39mimport\u001b[39;00m cycler\n\u001b[1;32m     51\u001b[0m \u001b[39mimport\u001b[39;00m \u001b[39mmatplotlib\u001b[39;00m\n\u001b[0;32m---> 52\u001b[0m \u001b[39mimport\u001b[39;00m \u001b[39mmatplotlib\u001b[39;00m\u001b[39m.\u001b[39;00m\u001b[39mcolorbar\u001b[39;00m\n\u001b[1;32m     53\u001b[0m \u001b[39mimport\u001b[39;00m \u001b[39mmatplotlib\u001b[39;00m\u001b[39m.\u001b[39;00m\u001b[39mimage\u001b[39;00m\n\u001b[1;32m     54\u001b[0m \u001b[39mfrom\u001b[39;00m \u001b[39mmatplotlib\u001b[39;00m \u001b[39mimport\u001b[39;00m _api\n",
      "File \u001b[0;32m~/.local/lib/python3.10/site-packages/matplotlib/colorbar.py:19\u001b[0m\n\u001b[1;32m     16\u001b[0m \u001b[39mimport\u001b[39;00m \u001b[39mnumpy\u001b[39;00m \u001b[39mas\u001b[39;00m \u001b[39mnp\u001b[39;00m\n\u001b[1;32m     18\u001b[0m \u001b[39mimport\u001b[39;00m \u001b[39mmatplotlib\u001b[39;00m \u001b[39mas\u001b[39;00m \u001b[39mmpl\u001b[39;00m\n\u001b[0;32m---> 19\u001b[0m \u001b[39mfrom\u001b[39;00m \u001b[39mmatplotlib\u001b[39;00m \u001b[39mimport\u001b[39;00m _api, cbook, collections, cm, colors, contour, ticker\n\u001b[1;32m     20\u001b[0m \u001b[39mimport\u001b[39;00m \u001b[39mmatplotlib\u001b[39;00m\u001b[39m.\u001b[39;00m\u001b[39martist\u001b[39;00m \u001b[39mas\u001b[39;00m \u001b[39mmartist\u001b[39;00m\n\u001b[1;32m     21\u001b[0m \u001b[39mimport\u001b[39;00m \u001b[39mmatplotlib\u001b[39;00m\u001b[39m.\u001b[39;00m\u001b[39mpatches\u001b[39;00m \u001b[39mas\u001b[39;00m \u001b[39mmpatches\u001b[39;00m\n",
      "File \u001b[0;32m~/.local/lib/python3.10/site-packages/matplotlib/collections.py:19\u001b[0m\n\u001b[1;32m     16\u001b[0m \u001b[39mimport\u001b[39;00m \u001b[39mnumpy\u001b[39;00m \u001b[39mas\u001b[39;00m \u001b[39mnp\u001b[39;00m\n\u001b[1;32m     18\u001b[0m \u001b[39mimport\u001b[39;00m \u001b[39mmatplotlib\u001b[39;00m \u001b[39mas\u001b[39;00m \u001b[39mmpl\u001b[39;00m\n\u001b[0;32m---> 19\u001b[0m \u001b[39mfrom\u001b[39;00m \u001b[39m.\u001b[39;00m \u001b[39mimport\u001b[39;00m (_api, _path, artist, cbook, cm, colors \u001b[39mas\u001b[39;00m mcolors, _docstring,\n\u001b[1;32m     20\u001b[0m                hatch \u001b[39mas\u001b[39;00m mhatch, lines \u001b[39mas\u001b[39;00m mlines, path \u001b[39mas\u001b[39;00m mpath, transforms)\n\u001b[1;32m     21\u001b[0m \u001b[39mfrom\u001b[39;00m \u001b[39m.\u001b[39;00m\u001b[39m_enums\u001b[39;00m \u001b[39mimport\u001b[39;00m JoinStyle, CapStyle\n\u001b[1;32m     24\u001b[0m \u001b[39m# \"color\" is excluded; it is a compound setter, and its docstring differs\u001b[39;00m\n\u001b[1;32m     25\u001b[0m \u001b[39m# in LineCollection.\u001b[39;00m\n",
      "File \u001b[0;32m~/.local/lib/python3.10/site-packages/matplotlib/lines.py:17\u001b[0m\n\u001b[1;32m     14\u001b[0m \u001b[39mfrom\u001b[39;00m \u001b[39m.\u001b[39;00m\u001b[39martist\u001b[39;00m \u001b[39mimport\u001b[39;00m Artist, allow_rasterization\n\u001b[1;32m     15\u001b[0m \u001b[39mfrom\u001b[39;00m \u001b[39m.\u001b[39;00m\u001b[39mcbook\u001b[39;00m \u001b[39mimport\u001b[39;00m (\n\u001b[1;32m     16\u001b[0m     _to_unmasked_float_array, ls_mapper, ls_mapper_r, STEP_LOOKUP_MAP)\n\u001b[0;32m---> 17\u001b[0m \u001b[39mfrom\u001b[39;00m \u001b[39m.\u001b[39;00m\u001b[39mmarkers\u001b[39;00m \u001b[39mimport\u001b[39;00m MarkerStyle\n\u001b[1;32m     18\u001b[0m \u001b[39mfrom\u001b[39;00m \u001b[39m.\u001b[39;00m\u001b[39mpath\u001b[39;00m \u001b[39mimport\u001b[39;00m Path\n\u001b[1;32m     19\u001b[0m \u001b[39mfrom\u001b[39;00m \u001b[39m.\u001b[39;00m\u001b[39mtransforms\u001b[39;00m \u001b[39mimport\u001b[39;00m Bbox, BboxTransformTo, TransformedPath\n",
      "File \u001b[0;32m~/.local/lib/python3.10/site-packages/matplotlib/markers.py:156\u001b[0m\n\u001b[1;32m    149\u001b[0m (TICKLEFT, TICKRIGHT, TICKUP, TICKDOWN,\n\u001b[1;32m    150\u001b[0m  CARETLEFT, CARETRIGHT, CARETUP, CARETDOWN,\n\u001b[1;32m    151\u001b[0m  CARETLEFTBASE, CARETRIGHTBASE, CARETUPBASE, CARETDOWNBASE) \u001b[39m=\u001b[39m \u001b[39mrange\u001b[39m(\u001b[39m12\u001b[39m)\n\u001b[1;32m    153\u001b[0m _empty_path \u001b[39m=\u001b[39m Path(np\u001b[39m.\u001b[39mempty((\u001b[39m0\u001b[39m, \u001b[39m2\u001b[39m)))\n\u001b[0;32m--> 156\u001b[0m \u001b[39mclass\u001b[39;00m \u001b[39mMarkerStyle\u001b[39;00m:\n\u001b[1;32m    157\u001b[0m \u001b[39m    \u001b[39m\u001b[39m\"\"\"\u001b[39;00m\n\u001b[1;32m    158\u001b[0m \u001b[39m    A class representing marker types.\u001b[39;00m\n\u001b[1;32m    159\u001b[0m \n\u001b[0;32m   (...)\u001b[0m\n\u001b[1;32m    170\u001b[0m \u001b[39m        The supported fillstyles.\u001b[39;00m\n\u001b[1;32m    171\u001b[0m \u001b[39m    \"\"\"\u001b[39;00m\n\u001b[1;32m    173\u001b[0m     markers \u001b[39m=\u001b[39m {\n\u001b[1;32m    174\u001b[0m         \u001b[39m'\u001b[39m\u001b[39m.\u001b[39m\u001b[39m'\u001b[39m: \u001b[39m'\u001b[39m\u001b[39mpoint\u001b[39m\u001b[39m'\u001b[39m,\n\u001b[1;32m    175\u001b[0m         \u001b[39m'\u001b[39m\u001b[39m,\u001b[39m\u001b[39m'\u001b[39m: \u001b[39m'\u001b[39m\u001b[39mpixel\u001b[39m\u001b[39m'\u001b[39m,\n\u001b[0;32m   (...)\u001b[0m\n\u001b[1;32m    214\u001b[0m         \u001b[39m'\u001b[39m\u001b[39m'\u001b[39m: \u001b[39m'\u001b[39m\u001b[39mnothing\u001b[39m\u001b[39m'\u001b[39m\n\u001b[1;32m    215\u001b[0m     }\n",
      "File \u001b[0;32m~/.local/lib/python3.10/site-packages/matplotlib/markers.py:903\u001b[0m, in \u001b[0;36mMarkerStyle\u001b[0;34m()\u001b[0m\n\u001b[1;32m    900\u001b[0m     \u001b[39mself\u001b[39m\u001b[39m.\u001b[39m_filled \u001b[39m=\u001b[39m \u001b[39mFalse\u001b[39;00m\n\u001b[1;32m    901\u001b[0m     \u001b[39mself\u001b[39m\u001b[39m.\u001b[39m_path \u001b[39m=\u001b[39m \u001b[39mself\u001b[39m\u001b[39m.\u001b[39m_x_path\n\u001b[0;32m--> 903\u001b[0m _plus_filled_path \u001b[39m=\u001b[39m Path\u001b[39m.\u001b[39m_create_closed(np\u001b[39m.\u001b[39;49marray([\n\u001b[1;32m    904\u001b[0m     (\u001b[39m-\u001b[39;49m\u001b[39m1\u001b[39;49m, \u001b[39m-\u001b[39;49m\u001b[39m3\u001b[39;49m), (\u001b[39m+\u001b[39;49m\u001b[39m1\u001b[39;49m, \u001b[39m-\u001b[39;49m\u001b[39m3\u001b[39;49m), (\u001b[39m+\u001b[39;49m\u001b[39m1\u001b[39;49m, \u001b[39m-\u001b[39;49m\u001b[39m1\u001b[39;49m), (\u001b[39m+\u001b[39;49m\u001b[39m3\u001b[39;49m, \u001b[39m-\u001b[39;49m\u001b[39m1\u001b[39;49m), (\u001b[39m+\u001b[39;49m\u001b[39m3\u001b[39;49m, \u001b[39m+\u001b[39;49m\u001b[39m1\u001b[39;49m), (\u001b[39m+\u001b[39;49m\u001b[39m1\u001b[39;49m, \u001b[39m+\u001b[39;49m\u001b[39m1\u001b[39;49m),\n\u001b[1;32m    905\u001b[0m     (\u001b[39m+\u001b[39;49m\u001b[39m1\u001b[39;49m, \u001b[39m+\u001b[39;49m\u001b[39m3\u001b[39;49m), (\u001b[39m-\u001b[39;49m\u001b[39m1\u001b[39;49m, \u001b[39m+\u001b[39;49m\u001b[39m3\u001b[39;49m), (\u001b[39m-\u001b[39;49m\u001b[39m1\u001b[39;49m, \u001b[39m+\u001b[39;49m\u001b[39m1\u001b[39;49m), (\u001b[39m-\u001b[39;49m\u001b[39m3\u001b[39;49m, \u001b[39m+\u001b[39;49m\u001b[39m1\u001b[39;49m), (\u001b[39m-\u001b[39;49m\u001b[39m3\u001b[39;49m, \u001b[39m-\u001b[39;49m\u001b[39m1\u001b[39;49m), (\u001b[39m-\u001b[39;49m\u001b[39m1\u001b[39;49m, \u001b[39m-\u001b[39;49m\u001b[39m1\u001b[39;49m)]) \u001b[39m/\u001b[39m \u001b[39m6\u001b[39m)\n\u001b[1;32m    906\u001b[0m _plus_filled_path_t \u001b[39m=\u001b[39m Path\u001b[39m.\u001b[39m_create_closed(np\u001b[39m.\u001b[39marray([\n\u001b[1;32m    907\u001b[0m     (\u001b[39m+\u001b[39m\u001b[39m3\u001b[39m, \u001b[39m0\u001b[39m), (\u001b[39m+\u001b[39m\u001b[39m3\u001b[39m, \u001b[39m+\u001b[39m\u001b[39m1\u001b[39m), (\u001b[39m+\u001b[39m\u001b[39m1\u001b[39m, \u001b[39m+\u001b[39m\u001b[39m1\u001b[39m), (\u001b[39m+\u001b[39m\u001b[39m1\u001b[39m, \u001b[39m+\u001b[39m\u001b[39m3\u001b[39m),\n\u001b[1;32m    908\u001b[0m     (\u001b[39m-\u001b[39m\u001b[39m1\u001b[39m, \u001b[39m+\u001b[39m\u001b[39m3\u001b[39m), (\u001b[39m-\u001b[39m\u001b[39m1\u001b[39m, \u001b[39m+\u001b[39m\u001b[39m1\u001b[39m), (\u001b[39m-\u001b[39m\u001b[39m3\u001b[39m, \u001b[39m+\u001b[39m\u001b[39m1\u001b[39m), (\u001b[39m-\u001b[39m\u001b[39m3\u001b[39m, \u001b[39m0\u001b[39m)]) \u001b[39m/\u001b[39m \u001b[39m6\u001b[39m)\n\u001b[1;32m    910\u001b[0m \u001b[39mdef\u001b[39;00m \u001b[39m_set_plus_filled\u001b[39m(\u001b[39mself\u001b[39m):\n",
      "\u001b[0;31mTypeError\u001b[0m: 'list' object is not callable"
     ]
    }
   ],
   "source": [
    "import numpy as np\n",
    "import scipy\n",
    "import matplotlib.pyplot as plt"
   ]
  },
  {
   "cell_type": "code",
   "execution_count": 54,
   "id": "b677f0db",
   "metadata": {},
   "outputs": [],
   "source": [
    "data = np.loadtxt('Masses2016.txt', skiprows=1)\n",
    "\n",
    "def LDM(x,*params):\n",
    "    #x = (n,z)\n",
    "    #params= parameters (volume, surface, asymmetry, Coulomb)\n",
    "    \n",
    "    n=x[0]\n",
    "    z=x[1]\n",
    "    \n",
    "    #return a*(n+z) - b*(n+z)**(2/3) - c*((n-z)**2/(n+z)) - d*((z**2)/((n+z)**(1/3)))\n",
    "    return params[0]*(n+z) - params[1]*(n+z)**(2/3) - params[2]*((n-z)**2/(n+z)) - params[3]*((z**2)/((n+z)**(1/3)))"
   ]
  },
  {
   "cell_type": "code",
   "execution_count": 60,
   "id": "f419e113",
   "metadata": {},
   "outputs": [
    {
     "name": "stdout",
     "output_type": "stream",
     "text": [
      "[10.4618677  14.24325763  5.40685517  0.49088531]\n",
      "[[1.81140977e-03 5.57812446e-03 4.07639863e-03 1.24611243e-04]\n",
      " [5.57812446e-03 1.74525926e-02 1.23581620e-02 3.76099757e-04]\n",
      " [4.07639863e-03 1.23581620e-02 1.12402635e-02 2.74655197e-04]\n",
      " [1.24611243e-04 3.76099757e-04 2.74655197e-04 8.86830024e-06]]\n"
     ]
    }
   ],
   "source": [
    "xdata = data[:,:2].T\n",
    "ydata = data[:,2]\n",
    "p0=np.array=([1,1,1,1])\n",
    "mean, cov = scipy.optimize.curve_fit(LDM,xdata,ydata,p0=p0)\n",
    "print(mean)\n",
    "print(cov)"
   ]
  },
  {
   "cell_type": "code",
   "execution_count": 66,
   "id": "6516b5f1",
   "metadata": {},
   "outputs": [],
   "source": [
    "y_the = LDM(xdata,*mean)\n",
    "resids = ydata - y_the\n"
   ]
  },
  {
   "cell_type": "code",
   "execution_count": 68,
   "id": "19fda7ea",
   "metadata": {},
   "outputs": [
    {
     "ename": "NameError",
     "evalue": "name 'plt' is not defined",
     "output_type": "error",
     "traceback": [
      "\u001b[0;31m---------------------------------------------------------------------------\u001b[0m",
      "\u001b[0;31mNameError\u001b[0m                                 Traceback (most recent call last)",
      "Cell \u001b[0;32mIn[68], line 1\u001b[0m\n\u001b[0;32m----> 1\u001b[0m plt\u001b[39m.\u001b[39mscatter(data[:,\u001b[39m0\u001b[39m],data[:,\u001b[39m1\u001b[39m],resids)\n\u001b[1;32m      2\u001b[0m plt\u001b[39m.\u001b[39mcolorbar()\n",
      "\u001b[0;31mNameError\u001b[0m: name 'plt' is not defined"
     ]
    }
   ],
   "source": [
    "plt.scatter(data[:,0],data[:,1],resids)\n",
    "plt.colorbar()"
   ]
  },
  {
   "cell_type": "code",
   "execution_count": 69,
   "id": "85143e14",
   "metadata": {},
   "outputs": [
    {
     "name": "stdout",
     "output_type": "stream",
     "text": [
      "Requirement already satisfied: matplotlib in /home/codespace/.local/lib/python3.10/site-packages (3.7.1)\n",
      "Requirement already satisfied: contourpy>=1.0.1 in /home/codespace/.local/lib/python3.10/site-packages (from matplotlib) (1.0.7)\n",
      "Requirement already satisfied: cycler>=0.10 in /home/codespace/.local/lib/python3.10/site-packages (from matplotlib) (0.11.0)\n",
      "Requirement already satisfied: fonttools>=4.22.0 in /home/codespace/.local/lib/python3.10/site-packages (from matplotlib) (4.39.4)\n",
      "Requirement already satisfied: kiwisolver>=1.0.1 in /home/codespace/.local/lib/python3.10/site-packages (from matplotlib) (1.4.4)\n",
      "Requirement already satisfied: numpy>=1.20 in /home/codespace/.local/lib/python3.10/site-packages (from matplotlib) (1.24.3)\n",
      "Requirement already satisfied: packaging>=20.0 in /home/codespace/.local/lib/python3.10/site-packages (from matplotlib) (23.1)\n",
      "Requirement already satisfied: pillow>=6.2.0 in /home/codespace/.local/lib/python3.10/site-packages (from matplotlib) (9.5.0)\n",
      "Requirement already satisfied: pyparsing>=2.3.1 in /home/codespace/.local/lib/python3.10/site-packages (from matplotlib) (3.0.9)\n",
      "Requirement already satisfied: python-dateutil>=2.7 in /home/codespace/.local/lib/python3.10/site-packages (from matplotlib) (2.8.2)\n",
      "Requirement already satisfied: six>=1.5 in /home/codespace/.local/lib/python3.10/site-packages (from python-dateutil>=2.7->matplotlib) (1.16.0)\n"
     ]
    }
   ],
   "source": [
    "!pip install matplotlib"
   ]
  },
  {
   "cell_type": "code",
   "execution_count": null,
   "id": "05fed36a",
   "metadata": {},
   "outputs": [],
   "source": []
  }
 ],
 "metadata": {
  "kernelspec": {
   "display_name": "Python 3 (ipykernel)",
   "language": "python",
   "name": "python3"
  },
  "language_info": {
   "codemirror_mode": {
    "name": "ipython",
    "version": 3
   },
   "file_extension": ".py",
   "mimetype": "text/x-python",
   "name": "python",
   "nbconvert_exporter": "python",
   "pygments_lexer": "ipython3",
   "version": "3.10.8"
  }
 },
 "nbformat": 4,
 "nbformat_minor": 5
}
